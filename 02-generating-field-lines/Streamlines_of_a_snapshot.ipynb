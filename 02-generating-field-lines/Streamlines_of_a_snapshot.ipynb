{
 "cells": [
  {
   "cell_type": "markdown",
   "id": "dd723da6-d7b0-4bdf-aa98-3843c8e889c5",
   "metadata": {},
   "source": [
    "# Streamlines of a snapshot"
   ]
  },
  {
   "cell_type": "markdown",
   "id": "9306b2a1-f1d0-4af3-ad0a-9b71fb080daa",
   "metadata": {
    "tags": []
   },
   "source": [
    "## Functions"
   ]
  },
  {
   "cell_type": "code",
   "execution_count": null,
   "id": "3a65a332-8904-452f-9069-4578942d7fe3",
   "metadata": {},
   "outputs": [],
   "source": [
    "import numpy as np\n",
    "import g3read as g3\n",
    "import matplotlib.pyplot as plt"
   ]
  },
  {
   "cell_type": "code",
   "execution_count": null,
   "id": "a9610f39-4a49-4285-b81d-87709cc8f27b",
   "metadata": {},
   "outputs": [],
   "source": [
    "def read_in(filename, ptype = 0):\n",
    "    \"\"\"\n",
    "    Reads in the position and velocity block of the snapshot file \"filename\" as np.arrays\n",
    "    Input:\n",
    "    filename: str; filename of the snapshotfile\n",
    "    Output:\n",
    "    pos: (N,3) np.array; position array; N = particle number\n",
    "    vel: (N,3) np.array; velocity array; N = particle number\n",
    "    boxsize: float, boxsize of snapshot file/position array\n",
    "    \"\"\"\n",
    "    \n",
    "    pos = g3.read_new(filename, \"POS \", ptype)\n",
    "    vel = g3.read_new(filename, \"VEL \", ptype)\n",
    "    \n",
    "    f = g3.GadgetFile(filename)\n",
    "    box_size = f.header.BoxSize\n",
    "    \n",
    "    return pos, vel, box_size"
   ]
  },
  {
   "cell_type": "code",
   "execution_count": null,
   "id": "8b270360-76f8-4401-b237-3a496151ce66",
   "metadata": {},
   "outputs": [],
   "source": [
    "filename = 'snap_144'\n",
    "pos, vel, box_size = read_in(filename)"
   ]
  },
  {
   "cell_type": "code",
   "execution_count": null,
   "id": "522e28d4-3799-4ba7-be7f-3763599a4fbb",
   "metadata": {},
   "outputs": [],
   "source": [
    "def create_mesh(pos, vel, box_size, NGrid = 20):\n",
    "    \"\"\"\n",
    "    Creates a mesh on which mean velocities of the particles are calcualted\n",
    "    Input: \n",
    "    NGrid: int; Number of grid cells\n",
    "    pos: (N,3) np.array; positions of particles that are to be inprinted on mesh; N = particle number\n",
    "    vel: (N,3) np.array; velocities of particles that are to be inprinted on mesh; N = particles number\n",
    "    Output:\n",
    "    pos_mesh: (NGrid**3,3) np.array; postions of grid cells\n",
    "    vel_mesh: (NGrid**3,3) np.array; velocities of grid cells are mean velocity of all particles within that cell\n",
    "    \"\"\"\n",
    "    \n",
    "    cell_size = box_size/NGrid\n",
    "\n",
    "    #total number of mesh points\n",
    "    tNGrid = NGrid**3\n",
    "\n",
    "    counter_mesh = np.zeros(tNGrid, np.float32)\n",
    "    pos_mesh = np.zeros((tNGrid, 3), np.float32)\n",
    "    vel_mesh = np.zeros((tNGrid, 3), np.float32)\n",
    "    for i in range(0, NGrid):\n",
    "        for j in range(0, NGrid):\n",
    "            for k in range(0, NGrid):\n",
    "\n",
    "                #current active mesh cell\n",
    "                ipart = i*NGrid**2 + j*NGrid + k\n",
    "                counter_mesh[ipart] = ipart\n",
    "\n",
    "                #define positions\n",
    "                pos_mesh[ipart,0] = (i + 0.5) * cell_size\n",
    "                pos_mesh[ipart,1] = (j + 0.5) * cell_size\n",
    "                pos_mesh[ipart,2] = (k + 0.5) * cell_size\n",
    "\n",
    "                #condition for particle to lie in grid cell ipart\n",
    "                cond = np.where( (pos[:,0] > (pos_mesh[ipart,0]-0.5*cell_size)) & (pos[:,0] < (pos_mesh[ipart,0]+0.5*cell_size)) & (pos[:,1] > (pos_mesh[ipart,1]-0.5*cell_size)) & (pos[:,1] < (pos_mesh[ipart,1]+0.5*cell_size)) & (pos[:,2] > (pos_mesh[ipart,2]-0.5*cell_size)) & (pos[:,2] < (pos_mesh[ipart,2]+0.5*cell_size)))\n",
    "                \n",
    "                vels_mesh = np.copy(vel[cond])\n",
    "                \n",
    "                vel_mesh[ipart,0] = np.mean(vels_mesh[:,0])\n",
    "                vel_mesh[ipart,1] = np.mean(vels_mesh[:,1])\n",
    "                vel_mesh[ipart,2] = np.mean(vels_mesh[:,2])\n",
    "                \n",
    "\n",
    "    return pos_mesh, vel_mesh"
   ]
  },
  {
   "cell_type": "code",
   "execution_count": null,
   "id": "bbd82b86-3d06-49dc-963c-d496f0c79c4c",
   "metadata": {
    "tags": []
   },
   "outputs": [],
   "source": [
    "NGrid = 30\n",
    "pos_mesh, vel_mesh = create_mesh(pos,vel,box_size, NGrid)"
   ]
  },
  {
   "cell_type": "code",
   "execution_count": null,
   "id": "d8988344-cf99-40a0-9321-26e9cdabc368",
   "metadata": {
    "tags": []
   },
   "outputs": [],
   "source": [
    "def create_streamline(starting_pos, pos_mesh, vel_mesh, tmax = 100., tstep = 2.):\n",
    "    \"\"\"\n",
    "    Creates stream line for a starting position on a specified mesh (mesh positions and mesh velocities)\n",
    "    Input:\n",
    "    starting_pos: (1,3) np.array: Position of the particles from which the streamline starts\n",
    "    pos_mesh: (tNGrid,3) np.array: Positions of the grid cells\n",
    "    vel_mesh: (tNGrid,3) np.array: Velocities of the grid cells\n",
    "    tmax: int,float: time for the propagation of the streamline\n",
    "    tstep: int,float: time step for propagation of the streamline\n",
    "    Output: \n",
    "    streamline: (tmax/tstep,3) np.array: positions on the streamline of the specified starting position\n",
    "    \"\"\"\n",
    "    steps = int(tmax/tstep)\n",
    "    streamline = np.zeros((steps+1, 3), np.float32) \n",
    "    streamline_vel = np.zeros((steps+1, 3), np.float32) \n",
    "    streamline[0] = starting_pos\n",
    "    for i in range(steps):\n",
    "        dist = np.sqrt((streamline[i,0] - pos_mesh[:,0] )**2 + (streamline[i,1] - pos_mesh[:,1])**2 + (streamline[i,2] - pos_mesh[:,2])**2) \n",
    "        cond = np.where(dist[:] == np.min(dist[:]))\n",
    "        vel = np.copy(vel_mesh[cond])\n",
    "        vel[np.isnan(vel)] = 0\n",
    "       \n",
    "        streamline[i+1,0] = streamline[i,0] + vel[0,0]*tstep\n",
    "        streamline[i+1,1] = streamline[i,1] + vel[0,1]*tstep\n",
    "        streamline[i+1,2] = streamline[i,2] + vel[0,2]*tstep\n",
    "        \n",
    "        streamline_vel[i+1,0] = vel[0,0]\n",
    "        streamline_vel[i+1,1] = vel[0,1]\n",
    "        streamline_vel[i+1,2] = vel[0,2]\n",
    "\n",
    "    return streamline, streamline_vel"
   ]
  },
  {
   "cell_type": "code",
   "execution_count": null,
   "id": "15c304f3-14be-4596-8e02-f3acd1dfb9a2",
   "metadata": {},
   "outputs": [],
   "source": [
    "def multiple_streamlines(starting_positions, pos_mesh, vel_mesh, tmax = 100., tstep = 2.):\n",
    "    \"\"\"\n",
    "    Creates multiple streamlines for multiple starting positions on a specified mesh (mesh positions and mesh velocities)\n",
    "    Input:\n",
    "    starting_positions: (NStart,3) np.array: Positions of the particles from which the streamlines starts\n",
    "    pos_mesh: (tNGrid,3) np.array: Positions of the grid cells\n",
    "    vel_mesh: (tNGrid,3) np.array: Velocities of the grid cells\n",
    "    tmax: int,float: time for the propagation of the streamline\n",
    "    tstep: int,float: time step for propagation of the streamline\n",
    "    Output: \n",
    "    streamlines: (NStart, tmax/tstep,3) np.array: positions on the streamlines of the specified starting positions\n",
    "    \"\"\"\n",
    "    NStart = len(starting_positions)\n",
    "    steps = int(tmax/tstep)\n",
    "    streamlines = np.zeros( (NStart,steps+1,3), np.float32 )\n",
    "    streamlines_vel = np.zeros( (NStart,steps+1,3), np.float32 )\n",
    "    for i in range(NStart):\n",
    "        s_pos = starting_positions[i]\n",
    "        streamlines[i], streamlines_vel[i] = create_streamline(s_pos, pos_mesh, vel_mesh, tmax, tstep)\n",
    "    \n",
    "    return streamlines, streamlines_vel"
   ]
  },
  {
   "cell_type": "code",
   "execution_count": null,
   "id": "dbb7e74b-2d95-465e-83a5-fc2202b8eae8",
   "metadata": {},
   "outputs": [],
   "source": [
    "cond = np.where( (pos_mesh[:,2] < 23400) & (pos_mesh[:,2] > 23000)) #works with 24000 and 26000 \n",
    "starting_positions = np.copy(pos_mesh[cond])\n",
    "NStart = len(starting_positions)"
   ]
  },
  {
   "cell_type": "code",
   "execution_count": null,
   "id": "0fe924cf-bf6a-49b5-8da9-caf09bf1703e",
   "metadata": {},
   "outputs": [],
   "source": [
    "streamliens = multiple_streamlines(starting_positions, pos_mesh, vel_mesh)"
   ]
  },
  {
   "cell_type": "markdown",
   "id": "0a51438a-03fe-407f-827a-5c57cdc33662",
   "metadata": {
    "tags": []
   },
   "source": [
    "## Single Slice"
   ]
  },
  {
   "cell_type": "code",
   "execution_count": null,
   "id": "b9990485-d8e8-413d-9862-0ffe27ae8018",
   "metadata": {
    "tags": []
   },
   "outputs": [],
   "source": [
    "def main(filename, uplim, lowlim, snap_num = 0, tmax = 100., tstep= 2., NGrid = 20 , ptype = 0):\n",
    "    fig = plt.figure(figsize = (10,10))\n",
    "    \n",
    "    print('Reading in positions and velocities...')\n",
    "    pos, vel, boxsize = read_in(filename, ptype)\n",
    "    plt.scatter(pos[:,0], pos[:,1], c = 'gray', marker = '.', s = 1 )\n",
    "    \n",
    "    print('Creating mesh and computing mean velocities...')\n",
    "    pos_mesh, vel_mesh = create_mesh(pos, vel, boxsize, NGrid)\n",
    "    plt.scatter(pos_mesh[:,0], pos_mesh[:,1], marker = '.')\n",
    "    \n",
    "    cond = np.where( (pos_mesh[:,2] < uplim) & (pos_mesh[:,2] > lowlim)) #works with 24000 and 26000 for 20 and 23400 and 23000 for 30\n",
    "    starting_positions = np.copy(pos_mesh[cond])\n",
    "    NStart = len(starting_positions)\n",
    "    \n",
    "    print('Creating stream lines for starting positions...')\n",
    "    streamlines, streamlines_vel = multiple_streamlines(starting_positions, pos_mesh, vel_mesh, tmax, tstep) \n",
    "    \n",
    "    for i in range(NStart):\n",
    "        plt.plot(streamlines[i,:,0], streamlines[i,:,1], 'k-')\n",
    "    print('Done!')\n",
    "    \n",
    "    plt.xlim(0,boxsize)\n",
    "    plt.ylim(0,boxsize)\n",
    "    \n",
    "    plt.savefig('streamlines_snap_{}.png'.format(snap_num))\n",
    "    plt.show()\n",
    "    \n",
    "    return 0"
   ]
  },
  {
   "cell_type": "code",
   "execution_count": null,
   "id": "3b10c5ae-2582-449d-8881-71dd035844f5",
   "metadata": {
    "tags": []
   },
   "outputs": [],
   "source": [
    "filename = 'snap_144'\n",
    "NGrid = 20\n",
    "main(filename, NGrid = NGrid, uplim = 26000, lowlim = 24000)"
   ]
  },
  {
   "cell_type": "markdown",
   "id": "0a4e0b36-0932-4229-af99-42089c498571",
   "metadata": {
    "tags": []
   },
   "source": [
    "## Multiple Slices"
   ]
  },
  {
   "cell_type": "code",
   "execution_count": null,
   "id": "bb169208-2932-4ac7-8629-8920a1b1dd7d",
   "metadata": {},
   "outputs": [],
   "source": [
    "filename = 'snap_144'\n",
    "box_size = 48000\n",
    "NGrid = 20\n",
    "lowlim = box_size/NGrid/2 - 100\n",
    "uplim = lowlim + 200\n",
    "step = box_size/NGrid\n",
    "\n",
    "for i in range(NGrid):\n",
    "    main(filename, NGrid = NGrid, snap_num = i, uplim = uplim, lowlim = lowlim)\n",
    "    lowlim += step\n",
    "    uplim += step\n"
   ]
  },
  {
   "cell_type": "code",
   "execution_count": null,
   "id": "bf869a06-c4dc-4b58-8623-e4541c6b5cb3",
   "metadata": {},
   "outputs": [],
   "source": []
  }
 ],
 "metadata": {
  "kernelspec": {
   "display_name": "Python 3 (ipykernel)",
   "language": "python",
   "name": "python3"
  },
  "language_info": {
   "codemirror_mode": {
    "name": "ipython",
    "version": 3
   },
   "file_extension": ".py",
   "mimetype": "text/x-python",
   "name": "python",
   "nbconvert_exporter": "python",
   "pygments_lexer": "ipython3",
   "version": "3.10.6"
  }
 },
 "nbformat": 4,
 "nbformat_minor": 5
}
