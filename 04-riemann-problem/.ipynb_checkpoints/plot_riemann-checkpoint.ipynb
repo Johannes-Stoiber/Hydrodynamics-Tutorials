{
 "cells": [
  {
   "cell_type": "markdown",
   "id": "76a80759-d9a9-40f1-8948-58a883c941cb",
   "metadata": {
    "tags": []
   },
   "source": [
    "# plot.py"
   ]
  },
  {
   "cell_type": "markdown",
   "id": "56ce2d1f-e4a6-4032-9cba-118409d78e60",
   "metadata": {
    "jp-MarkdownHeadingCollapsed": true,
    "tags": []
   },
   "source": [
    "## density"
   ]
  },
  {
   "cell_type": "code",
   "execution_count": null,
   "id": "1e8ae075-6c15-4029-8f8c-4b3908af762a",
   "metadata": {},
   "outputs": [],
   "source": [
    "import numpy as np\n",
    "import matplotlib.pyplot as plt\n",
    "import g3read as g3\n",
    "\n",
    "filename = ['snap_000', 'snap_004', 'snap_007']\n",
    "color = ['red', 'cyan', 'green']\n",
    "ptype = 0\n",
    "\n",
    "fig = plt.figure(figsize = (12,3))\n",
    "\n",
    "for i in range(len(filename)):\n",
    "    pos = g3.read_new(filename[i], \"POS \", ptype)\n",
    "    density = g3.read_new(filename[i], \"RHO \", ptype)\n",
    "    plt.scatter(pos[:,0], density[:], c = color[i], s = 1, marker = '.', label = filename[i]) \n",
    "\n",
    "plt.axvline(x=10, color = 'grey', linestyle = '--')\n",
    "plt.axhline(y=4000, color = 'grey', linestyle = '--')\n",
    "#plt.ylabel(r'$\\rho$')\n",
    "plt.ylabel('density')\n",
    "plt.legend()\n",
    "plt.savefig('density')\n",
    "plt.show()"
   ]
  },
  {
   "cell_type": "markdown",
   "id": "de5172d0-7ef0-4b87-96a1-9dacdf4fcf18",
   "metadata": {
    "jp-MarkdownHeadingCollapsed": true,
    "tags": []
   },
   "source": [
    "## internal energy"
   ]
  },
  {
   "cell_type": "code",
   "execution_count": null,
   "id": "c0a953ad-8a39-4eda-a28d-439a9336a20b",
   "metadata": {},
   "outputs": [],
   "source": [
    "import numpy as np\n",
    "import matplotlib.pyplot as plt\n",
    "import g3read as g3\n",
    "\n",
    "filename = ['snap_000', 'snap_004', 'snap_007']\n",
    "color = ['red', 'cyan', 'green']\n",
    "ptype = 0\n",
    "\n",
    "fig = plt.figure(figsize = (12,3))\n",
    "\n",
    "for i in range(len(filename)):\n",
    "    pos = g3.read_new(filename[i], \"POS \", ptype)\n",
    "    density = g3.read_new(filename[i], \"RHO \", ptype)\n",
    "    U = g3.read_new(filename[i], \"U   \", ptype)\n",
    "    plt.scatter(pos[:,0], U[:], c = color[i], s = 1, marker = '.', label = filename[i]) \n",
    "\n",
    "#plt.axvline(x=10, color = 'grey', linestyle = '--')\n",
    "#plt.axhline(y=4000, color = 'grey', linestyle = '--')\n",
    "#plt.ylabel(r'$\\rho$')\n",
    "plt.ylabel('internal energy')\n",
    "plt.legend()\n",
    "plt.savefig('internal_energy')\n",
    "plt.show()"
   ]
  },
  {
   "cell_type": "markdown",
   "id": "23b65240-b5cb-4cc0-b09e-bceb17471701",
   "metadata": {
    "jp-MarkdownHeadingCollapsed": true,
    "tags": []
   },
   "source": [
    "## pressure"
   ]
  },
  {
   "cell_type": "code",
   "execution_count": null,
   "id": "a2702309-8c06-4a62-babd-cac134e968c3",
   "metadata": {},
   "outputs": [],
   "source": [
    "import numpy as np\n",
    "import matplotlib.pyplot as plt\n",
    "import g3read as g3\n",
    "\n",
    "filename = ['snap_000', 'snap_004', 'snap_007']\n",
    "color = ['red', 'cyan', 'green']\n",
    "ptype = 0\n",
    "gamma = 5/3\n",
    "\n",
    "fig = plt.figure(figsize = (12,3))\n",
    "\n",
    "for i in range(len(filename)):\n",
    "    pos = g3.read_new(filename[i], \"POS \", ptype)\n",
    "    density = g3.read_new(filename[i], \"RHO \", ptype)\n",
    "    U = g3.read_new(filename[i], \"U   \", ptype)\n",
    "    pressure = U*(gamma-1)*density\n",
    "    plt.scatter(pos[:,0], pressure[:] , c = color[i], s = 1, marker = '.', label = filename[i]) \n",
    "\n",
    "plt.axvline(x=10, color = 'grey', linestyle = '--')\n",
    "plt.axhline(y=666, color = 'grey', linestyle = '--', label='pressure = 666')\n",
    "plt.axhline(y=1680, color = 'grey', linestyle = '-.', label='pressure = 1680')\n",
    "plt.axhline(y=5333, color = 'grey', linestyle = ':', label='pressure = 5333')\n",
    "plt.text(5.0, 4000, r'$P = P_C/P_5 = $'+str(round(1680/666,3)))\n",
    "plt.text(13.0, 4000, r'$\\lambda = P_1/P_5 = $'+str(round(5333/666,3)))\n",
    "#plt.ylabel(r'$\\rho$')\n",
    "plt.ylabel('pressure')\n",
    "plt.legend()\n",
    "plt.savefig('pressure')\n",
    "plt.show()"
   ]
  },
  {
   "cell_type": "code",
   "execution_count": null,
   "id": "c63ac680-4b66-4b9e-9f47-57cfff910a3f",
   "metadata": {},
   "outputs": [],
   "source": [
    "cond = np.where((pos[:,0] < 17) & (pos[:,0] > 13))\n",
    "pressure_snap = pressure[cond]\n",
    "print(np.mean(pressure_snap))"
   ]
  },
  {
   "cell_type": "markdown",
   "id": "2480a61e-e88b-430b-ab08-296fd366fa99",
   "metadata": {
    "jp-MarkdownHeadingCollapsed": true,
    "tags": []
   },
   "source": [
    "## entropy"
   ]
  },
  {
   "cell_type": "code",
   "execution_count": null,
   "id": "8239bc04-f7ae-42ba-b6f2-fc8d13e6e204",
   "metadata": {},
   "outputs": [],
   "source": [
    "import numpy as np\n",
    "import matplotlib.pyplot as plt\n",
    "import g3read as g3\n",
    "\n",
    "filename = ['snap_000', 'snap_004', 'snap_007']\n",
    "color = ['red', 'cyan', 'green']\n",
    "ptype = 0\n",
    "gamma = 5/3\n",
    "\n",
    "fig = plt.figure(figsize = (12,3))\n",
    "\n",
    "for i in range(len(filename)):\n",
    "    pos = g3.read_new(filename[i], \"POS \", ptype)\n",
    "    density = g3.read_new(filename[i], \"RHO \", ptype)\n",
    "    U = g3.read_new(filename[i], \"U   \", ptype)\n",
    "    pressure = U*(gamma-1)*density\n",
    "    entropy = pressure/density**gamma\n",
    "    plt.scatter(pos[:,0], entropy[:] , c = color[i], s = 1, marker = '.', label = filename[i]) \n",
    "\n",
    "#plt.axvline(x=10, color = 'grey', linestyle = '--')\n",
    "#plt.axhline(y=4000, color = 'grey', linestyle = '--')\n",
    "#plt.ylabel(r'$\\rho$')\n",
    "plt.ylabel('entropy')\n",
    "plt.legend()\n",
    "plt.savefig('entropy')\n",
    "plt.show()"
   ]
  },
  {
   "cell_type": "markdown",
   "id": "26af90d0-884a-41d1-8524-9efd5905a852",
   "metadata": {
    "jp-MarkdownHeadingCollapsed": true,
    "tags": []
   },
   "source": [
    "## velocity"
   ]
  },
  {
   "cell_type": "code",
   "execution_count": null,
   "id": "2f6107b9-5b98-474d-950f-924e9bf64970",
   "metadata": {},
   "outputs": [],
   "source": [
    "import numpy as np\n",
    "import matplotlib.pyplot as plt\n",
    "import g3read as g3\n",
    "\n",
    "filename = ['snap_000', 'snap_004', 'snap_007']\n",
    "color = ['red', 'cyan', 'green']\n",
    "ptype = 0\n",
    "gamma = 5/3\n",
    "\n",
    "fig = plt.figure(figsize = (12,3))\n",
    "\n",
    "for i in range(len(filename)):\n",
    "    pos = g3.read_new(filename[i], \"POS \", ptype)\n",
    "    density = g3.read_new(filename[i], \"RHO \", ptype)\n",
    "    U = g3.read_new(filename[i], \"U   \", ptype)\n",
    "    vel = g3.read_new(filename[i], \"VEL \", ptype)\n",
    "    v = np.sqrt(vel[:,0]**2 + vel[:,1]**2 + vel[:,2]**2)\n",
    "    pressure = U*(gamma-1)*density\n",
    "    entropy = pressure/density**gamma\n",
    "    plt.scatter(pos[:,0], v[:] , c = color[i], s = 1, marker = '.', label = filename[i]) \n",
    "\n",
    "#plt.axvline(x=10, color = 'grey', linestyle = '--')\n",
    "#plt.axhline(y=4000, color = 'grey', linestyle = '--')\n",
    "#plt.ylabel(r'$\\rho$')\n",
    "plt.ylabel('velocity')\n",
    "plt.legend()"
   ]
  },
  {
   "cell_type": "code",
   "execution_count": null,
   "id": "6c8c23d8-c732-49d9-a489-33a644aee9f2",
   "metadata": {},
   "outputs": [],
   "source": []
  }
 ],
 "metadata": {
  "kernelspec": {
   "display_name": "Python 3 (ipykernel)",
   "language": "python",
   "name": "python3"
  },
  "language_info": {
   "codemirror_mode": {
    "name": "ipython",
    "version": 3
   },
   "file_extension": ".py",
   "mimetype": "text/x-python",
   "name": "python",
   "nbconvert_exporter": "python",
   "pygments_lexer": "ipython3",
   "version": "3.10.6"
  }
 },
 "nbformat": 4,
 "nbformat_minor": 5
}
